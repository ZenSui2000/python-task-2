{
 "cells": [
  {
   "cell_type": "code",
   "execution_count": 6,
   "id": "a3e2be5b-080f-4430-b9cb-e2c9719fba90",
   "metadata": {},
   "outputs": [
    {
     "name": "stdout",
     "output_type": "stream",
     "text": [
      "Valid Password\n"
     ]
    }
   ],
   "source": [
    "import re\n",
    "password = \"D@t@Science2023\"\n",
    "flag = 0\n",
    "while True:\n",
    "\tif (len(password)<=10):\n",
    "\t\tflag = -1\n",
    "\t\tbreak\n",
    "\telif not re.search(\"[a-z]\", password):\n",
    "\t\tflag = -1\n",
    "\t\tbreak\n",
    "\telif not re.search(\"[A-Z]\", password):\n",
    "\t\tflag = -1\n",
    "\t\tbreak\n",
    "\telif not re.search(\"[0-10]\", password):\n",
    "\t\tflag = -1\n",
    "\t\tbreak\n",
    "\telif not re.search(\"[_@$]\" , password):\n",
    "\t\tflag = -1\n",
    "\t\tbreak\n",
    "\telif re.search(\"\\s\" , password):\n",
    "\t\tflag = -1\n",
    "\t\tbreak\n",
    "\telse:\n",
    "\t\tflag = 0\n",
    "\t\tprint(\"Valid Password\")\n",
    "\t\tbreak\n",
    "\n",
    "if flag == -1:\n",
    "\tprint(\"Not a Valid Password \")\n"
   ]
  },
  {
   "cell_type": "code",
   "execution_count": 11,
   "id": "23e05e41-6967-4bff-94fc-f876e9228df2",
   "metadata": {},
   "outputs": [
    {
     "name": "stdout",
     "output_type": "stream",
     "text": [
      "Words are:\n",
      "marvel\n",
      "dog\n",
      "salad\n",
      "cat\n",
      "great\n"
     ]
    }
   ],
   "source": [
    "seq = ['marvel','dog','salad','cat','great']\n",
    "\n",
    "sseq = \" \".join(seq)\n",
    "\n",
    "filtered = lambda x: True if sseq.startswith('m') else False\n",
    "\n",
    "filtered_list = filter(filtered, seq)\n",
    "\n",
    "print('Words are:')\n",
    "for a in filtered_list:\n",
    "    print(a)"
   ]
  },
  {
   "cell_type": "code",
   "execution_count": 16,
   "id": "3d33cf2d-221b-4335-87a5-bcb569938f7d",
   "metadata": {},
   "outputs": [
    {
     "data": {
      "text/plain": [
       "True"
      ]
     },
     "execution_count": 16,
     "metadata": {},
     "output_type": "execute_result"
    }
   ],
   "source": [
    "numstr = '100' \n",
    ">>> numstr.isnumeric()\n",
    "True\n",
    ">>> numstr = '\\u0034'\n",
    ">>> numstr.isnumeric()\n",
    "True\n",
    ">>> numstr = '\\u00BD' \n",
    ">>> numstr.isnumeric()\n",
    "True\n",
    ">>> numstr = '3/4' \n",
    ">>> numstr.isnumeric()\n",
    "True"
   ]
  },
  {
   "cell_type": "code",
   "execution_count": 17,
   "id": "74f8011f-049e-41d3-8704-5aceb1a2572f",
   "metadata": {},
   "outputs": [
    {
     "name": "stdout",
     "output_type": "stream",
     "text": [
      "[('orange', 80), ('mango', 99), ('grapes', 1000)]\n"
     ]
    }
   ],
   "source": [
    "def Sort_Tuple(tup):\n",
    "\n",
    "\t\n",
    "\tlst = len(tup)\n",
    "\tfor i in range(0, lst):\n",
    "\n",
    "\t\tfor j in range(0, lst-i-1):\n",
    "\t\t\tif (tup[j][1] > tup[j + 1][1]):\n",
    "\t\t\t\ttemp = tup[j]\n",
    "\t\t\t\ttup[j] = tup[j + 1]\n",
    "\t\t\t\ttup[j + 1] = temp\n",
    "\treturn tup\n",
    "\n",
    "tup = [(\"mango\",99),(\"orange\",80), (\"grapes\", 1000)]\n",
    "\n",
    "print(Sort_Tuple(tup))\n"
   ]
  },
  {
   "cell_type": "code",
   "execution_count": 18,
   "id": "1487ea7e-52c6-44f1-aafa-c34e35010c8d",
   "metadata": {},
   "outputs": [
    {
     "name": "stdout",
     "output_type": "stream",
     "text": [
      "[1, 9, 25, 49, 81]\n"
     ]
    }
   ],
   "source": [
    "data=[1,2,3,4,5,6,7,8,9,10]\n",
    "\n",
    "result = [i*i for i in data if i%2!=0]\n",
    "\n",
    "print(result)\n"
   ]
  },
  {
   "cell_type": "code",
   "execution_count": 28,
   "id": "d7f4e928-226c-40ed-bd7e-0d5d77c6533c",
   "metadata": {},
   "outputs": [
    {
     "ename": "SyntaxError",
     "evalue": "invalid decimal literal (1799816680.py, line 4)",
     "output_type": "error",
     "traceback": [
      "\u001b[0;36m  Cell \u001b[0;32mIn[28], line 4\u001b[0;36m\u001b[0m\n\u001b[0;31m    return round(math,(math.log(n)1def cubic_root(n):\u001b[0m\n\u001b[0m                                  ^\u001b[0m\n\u001b[0;31mSyntaxError\u001b[0m\u001b[0;31m:\u001b[0m invalid decimal literal\n"
     ]
    }
   ],
   "source": [
    "import math\n",
    " \n",
    "def cubic_root(n):\n",
    "    return round(math,(math.log(n)1def cubic_root(n):\n",
    "    \n",
    "    x = n\n",
    "    y = (2 * x + n / x**2) / 3\n",
    " \n",
    "\n",
    "    while abs(x - y) >= 0.000001:\n",
    "        x = y\n",
    "        y = (2 * x + n / x**2) / 3\n",
    " \n",
    "    return y\n",
    " \n",
    " \n",
    "n = 3\n",
    "print(\"Cubic root of\", n, \"is\", round(cubic_root(n), 6))/3), 6);\n",
    " \n",
    "n = 3\n",
    "print(\"Cubic Root of\", n, \"is\", cubic_root(n))\n",
    " \n",
    "n = 8\n",
    "print(\"Cubic Root of\", n, \"is\", cubic_root(n))"
   ]
  },
  {
   "cell_type": "code",
   "execution_count": 33,
   "id": "ef0ede0b-940c-4c40-9478-d2a94ec313cc",
   "metadata": {},
   "outputs": [
    {
     "ename": "SyntaxError",
     "evalue": "invalid character '“' (U+201C) (776201436.py, line 5)",
     "output_type": "error",
     "traceback": [
      "\u001b[0;36m  Cell \u001b[0;32mIn[33], line 5\u001b[0;36m\u001b[0m\n\u001b[0;31m    print (“The number is even”)\u001b[0m\n\u001b[0m           ^\u001b[0m\n\u001b[0;31mSyntaxError\u001b[0m\u001b[0;31m:\u001b[0m invalid character '“' (U+201C)\n"
     ]
    }
   ],
   "source": [
    "num = int (input (Enter any number to test whether it is odd or even:)\n",
    "\n",
    "if (num % 2) == 0:\n",
    "\n",
    "           print (“The number is even”)\n",
    "\n",
    "else:\n",
    "\n",
    "              print (“The provided number is odd”)"
   ]
  },
  {
   "cell_type": "code",
   "execution_count": 47,
   "id": "56271fe8-190b-4639-a32a-0b5d38cd4fc8",
   "metadata": {},
   "outputs": [
    {
     "ename": "IndentationError",
     "evalue": "expected an indented block after 'for' statement on line 2 (1862089731.py, line 3)",
     "output_type": "error",
     "traceback": [
      "\u001b[0;36m  Cell \u001b[0;32mIn[47], line 3\u001b[0;36m\u001b[0m\n\u001b[0;31m    if num % 2 != 0:\u001b[0m\n\u001b[0m    ^\u001b[0m\n\u001b[0;31mIndentationError\u001b[0m\u001b[0;31m:\u001b[0m expected an indented block after 'for' statement on line 2\n"
     ]
    }
   ],
   "source": [
    "list1 = [1,2,3,4,5,6,7,8,9,10]\n",
    "for num in list1:\n",
    "if num % 2 != 0:\n",
    "\tprint'num'"
   ]
  },
  {
   "cell_type": "code",
   "execution_count": 44,
   "id": "454f7616-a946-44c5-9278-b707a063a942",
   "metadata": {},
   "outputs": [
    {
     "name": "stdout",
     "output_type": "stream",
     "text": [
      "The original list is : [1, 2, 3, 4, 5, 6, -1, -2, -3, -4, -5, 0]\n",
      "Result after performing sort operation : [1, 2, 3, 4, 5, 6, 0, -5, -4, -3, -2, -1]\n"
     ]
    }
   ],
   "source": [
    "test_list = [1,2,3,4,5,6,-1,-2,-3,-4,-5,0]\n",
    "\n",
    "print(\"The original list is : \" + str(test_list))\n",
    "\n",
    "\n",
    "res = sorted(test_list, key = lambda i: 0 if i == 0 else -1 / i)\n",
    "\n",
    "\n",
    "print(\"Result after performing sort operation : \" + str(res))\n"
   ]
  },
  {
   "cell_type": "code",
   "execution_count": null,
   "id": "8c6d714a-82cc-4c61-a525-8bc0673db378",
   "metadata": {},
   "outputs": [],
   "source": []
  }
 ],
 "metadata": {
  "kernelspec": {
   "display_name": "Python 3 (ipykernel)",
   "language": "python",
   "name": "python3"
  },
  "language_info": {
   "codemirror_mode": {
    "name": "ipython",
    "version": 3
   },
   "file_extension": ".py",
   "mimetype": "text/x-python",
   "name": "python",
   "nbconvert_exporter": "python",
   "pygments_lexer": "ipython3",
   "version": "3.10.8"
  }
 },
 "nbformat": 4,
 "nbformat_minor": 5
}
